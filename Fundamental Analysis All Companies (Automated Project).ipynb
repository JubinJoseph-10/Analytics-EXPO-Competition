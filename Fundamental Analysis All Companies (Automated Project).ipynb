{
 "cells": [
  {
   "cell_type": "markdown",
   "id": "9d3819f3",
   "metadata": {},
   "source": [
    "## Using Selenium to Automate the process of downloading files and preparing them in the desired format"
   ]
  },
  {
   "cell_type": "code",
   "execution_count": 2,
   "id": "f5aae9d9",
   "metadata": {},
   "outputs": [],
   "source": [
    "#importing the required libraries\n",
    "import selenium as se\n",
    "from selenium import webdriver\n",
    "from selenium.webdriver.common.by import By\n",
    "from selenium.webdriver.edge.options import Options as EdgeOptions\n",
    "from selenium.webdriver.edge.service import Service as EdgeService"
   ]
  },
  {
   "cell_type": "code",
   "execution_count": 3,
   "id": "b3c3fea6",
   "metadata": {},
   "outputs": [],
   "source": [
    "li = ['CIPLA','DIVISLAB','DRREDDY','SUNPHARMA','LUPIN']"
   ]
  },
  {
   "cell_type": "code",
   "execution_count": 7,
   "id": "ddc82c01",
   "metadata": {},
   "outputs": [],
   "source": [
    "#a function for downloading the data for a index and into a specified folder \n",
    "def data_downloader(location,comp_list): \n",
    "    from time import sleep\n",
    "    options = webdriver.EdgeOptions()\n",
    "    '''Asking for a custom folder location'''\n",
    "    pref = {\"download.default_directory\" : location}\n",
    "    options.add_experimental_option(\"prefs\",pref)\n",
    "    driver = webdriver.Edge(options=options)\n",
    "    driver.get('https://www.screener.in/login/?next=/user/company/export/6596470/')\n",
    "    sleep(2)\n",
    "    username = driver.find_element(By.XPATH,(\"//input[@name='username']\"))\n",
    "    password = driver.find_element(By.XPATH,(\"//input[@name='password']\"))\n",
    "    '''Input your email ID and Password here (Screener)'''\n",
    "    username.send_keys('jubinjoseph917@gmail.com')\n",
    "    password.send_keys('cfcplayerno.1')\n",
    "    sleep(2)\n",
    "    login = driver.find_element(By.XPATH,('//button[@type=\"submit\"]')) \n",
    "    login.click()\n",
    "    sleep(2)\n",
    "    #downloading the data by opening new tabs and editing the links and closing the tabs after data is downloaded\n",
    "    driver.execute_script(\"window.open('');\")\n",
    "    '''The comp list is a list of ticker names'''\n",
    "    for comp in comp_list: \n",
    "        new_url = f\"https://www.screener.in/company/{comp}/consolidated/\"\n",
    "        sleep(3)\n",
    "        driver.switch_to.window(driver.window_handles[1])\n",
    "        driver.get(new_url)\n",
    "        sleep(3)\n",
    "        try:\n",
    "            download = driver.find_element(By.XPATH,(\"//button[@aria-label='Export to Excel']\"))\n",
    "            download.click()\n",
    "        except:\n",
    "            print(f\"Data not Found for {comp}\")            \n",
    "            continue\n",
    "        sleep(5)\n",
    "    driver.close()"
   ]
  },
  {
   "cell_type": "code",
   "execution_count": 8,
   "id": "d8b79f8f",
   "metadata": {},
   "outputs": [],
   "source": [
    "#SBILIFE AND NESTLE DATA DOWNLOADED SEPERATELY ALSO JIOFINANCIAL SERVICES WAS NEWLY LISTED\n",
    "data_downloader(r\"C:\\Users\\jubin\\OneDrive\\Desktop\\Analytics EXPO\\Competitors Advanced\\Financial Statements\",li)"
   ]
  },
  {
   "cell_type": "markdown",
   "id": "d34a1c20",
   "metadata": {},
   "source": [
    "# Data Fetching and Fundamental Analyis"
   ]
  },
  {
   "cell_type": "code",
   "execution_count": 9,
   "id": "21d35474",
   "metadata": {},
   "outputs": [],
   "source": [
    "#importing required libraries\n",
    "import pandas as pd\n",
    "import numpy as np\n",
    "import matplotlib.pyplot as plt\n",
    "import seaborn as sns\n",
    "import os as os\n",
    "%matplotlib inline"
   ]
  },
  {
   "cell_type": "markdown",
   "id": "fab6b75d",
   "metadata": {},
   "source": [
    "## Data Manipulation and Editing"
   ]
  },
  {
   "cell_type": "code",
   "execution_count": 10,
   "id": "5570e40d",
   "metadata": {},
   "outputs": [],
   "source": [
    "#definition to edit balance sheets obtained from screener and uplaoding it back\n",
    "def bs_setter(dataframe): \n",
    "    #dropping null values and Transposing the frame\n",
    "    temp = dataframe.dropna().T\n",
    "    #setting the column names as one of the row with row names\n",
    "    temp.columns = temp.iloc[0,:]\n",
    "    #changing the index to the date values and filtering data\n",
    "    temp = temp.iloc[1:,:].set_index('Report Date')\n",
    "    for col in temp.columns:\n",
    "        temp[col]=temp[col].astype('float')\n",
    "    temp=temp.round(2)\n",
    "    return temp"
   ]
  },
  {
   "cell_type": "code",
   "execution_count": 11,
   "id": "5c92c606",
   "metadata": {},
   "outputs": [],
   "source": [
    "#definition to edit balance sheets obtained from screener and uplaoding it back\n",
    "def pl_setter(dataframe): \n",
    "    #dropping null values and Transposing the frame\n",
    "    temp = dataframe.dropna().T\n",
    "    #setting the column names as one of the row with row names\n",
    "    temp.columns = temp.iloc[0,:]\n",
    "    #changing the index to the date values and filtering data\n",
    "    temp = temp.iloc[1:11,:].set_index('Report Date')\n",
    "    for col in temp.columns:\n",
    "        temp[col]=temp[col].astype('float')\n",
    "    temp=temp.round(2)\n",
    "    return temp"
   ]
  },
  {
   "cell_type": "code",
   "execution_count": 12,
   "id": "9bb4fd65",
   "metadata": {},
   "outputs": [],
   "source": [
    "#definition to edit cashflow obtained from screener and uplaoding it back\n",
    "def cfs_setter_price(dataframe): \n",
    "    #dropping null values and Transposing the frame\n",
    "    temp = dataframe.dropna().T\n",
    "    #setting the column names as one of the row with row names\n",
    "    temp.columns = temp.iloc[0,:]\n",
    "    #changing the index to the date values and filtering data\n",
    "    temp = temp.iloc[1:11,:].set_index('Report Date')\n",
    "    for col in temp.columns:\n",
    "        temp[col]=temp[col].astype('float')\n",
    "    temp=temp.round(2)\n",
    "    return temp"
   ]
  },
  {
   "cell_type": "code",
   "execution_count": 13,
   "id": "9997c502",
   "metadata": {},
   "outputs": [],
   "source": [
    "#function to read all the excel files with financial data and combine them\n",
    "def data_reader(folder_path):\n",
    "    # Iterate through all files in the folder\n",
    "    all_data={}\n",
    "    x=0\n",
    "    all_balance_sheet=[]\n",
    "    all_profit_and_loss=[]\n",
    "    for filename in os.listdir(folder_path):\n",
    "        if filename.endswith('.xlsx'):  # Assuming you're working with .xlsx files\n",
    "            file_path = os.path.join(folder_path, filename)\n",
    "            # Load the Excel file\n",
    "            data = pd.read_excel(file_path,sheet_name='Data Sheet')\n",
    "            x=x+1\n",
    "            #slicing the values for the balancesheet (formatting too)\n",
    "            balance_sheet = bs_setter(data.loc[54:70,:].drop(data.columns[[1]],axis=1))\n",
    "            balance_sheet.columns.name = filename[:-5]\n",
    "            #slicing the values for the incomestatement (formatting too)\n",
    "            profit_loss = pl_setter(data.loc[14:29,:].drop(data.columns[[1]],axis=1))\n",
    "            profit_loss.columns.name = filename[:-5]\n",
    "            #slicing values for cashflow statemnent (formatting too)\n",
    "            cash_flow_statement = cfs_setter_price(data.iloc[78:].drop(data.columns[[1]],axis=1))\n",
    "            cash_flow_statement.columns.name = filename[:-5]\n",
    "            #appending the p&l frames to a list\n",
    "            data_1=pd.merge(balance_sheet,profit_loss,left_index=True,right_index=True,how='left')\n",
    "            data_fin = pd.merge(data_1,cash_flow_statement,left_index=True,right_index=True,how='left')\n",
    "            data_fin = data_fin.sort_index(ascending=False)\n",
    "            all_data[filename[:-5]] = data_fin\n",
    "        else:\n",
    "            print(f\"Issues at file index {x}\")\n",
    "    return all_data"
   ]
  },
  {
   "cell_type": "code",
   "execution_count": 45,
   "id": "45b4a06e",
   "metadata": {},
   "outputs": [],
   "source": [
    "data=data_reader(r\"C:\\Users\\jubin\\OneDrive\\Desktop\\Analytics EXPO\\Competitors Advanced\\Financial Statements\")"
   ]
  },
  {
   "cell_type": "markdown",
   "id": "9a31a207",
   "metadata": {},
   "source": [
    "## Formulas for ratio computaion"
   ]
  },
  {
   "cell_type": "code",
   "execution_count": 46,
   "id": "82420fa5",
   "metadata": {},
   "outputs": [],
   "source": [
    "#creating the required ratios   \n",
    "def ratios_computer_req(df):\n",
    "    #Debt to Equity\n",
    "    #EBIT\n",
    "    df['EBIT'] = df['Profit before tax'] + df['Interest']\n",
    "    #D/E Ratio\n",
    "    df['Debt_to_Equity'] = df['Borrowings'] / (df['Equity Share Capital'] + df['Reserves'])\n",
    "    #Debtor Days\n",
    "    df['Debtor_Days'] = df['Receivables'] / (df['Sales']/365)\n",
    "    #Return on equity\n",
    "    df['ROE'] = df['Net profit'] / (df['Equity Share Capital'] + df ['Reserves'])\n",
    "    #Return on Assets\n",
    "    df['ROA'] = df['Net profit'] / (df['Net Block'] + df['Capital Work in Progress'] + df['Investments'] + df['Other Assets'])\n",
    "    #Return on capital employed\n",
    "    df['ROCE'] = df['EBIT'] * 2 / ((df['Equity Share Capital']+df['Equity Share Capital'].shift(-1)) + (df['Borrowings']+df['Borrowings'].shift(-1)) + (df['Reserves'] +df['Reserves'].shift(-1)))                         \n",
    "    #Net Profit Margin\n",
    "    df['Net_Profit_Margin'] = df['Net profit'] / df['Sales'] * 100\n",
    "    #COGS\n",
    "    df['COGS'] = df['Raw Material Cost'] + df['Power and Fuel'] + df['Other Mfr. Exp'] + df['Employee Cost']\n",
    "    #Gross margin\n",
    "    df['Gross_Margin'] = (df['Sales'] - df['COGS']) / df['Sales'] \n",
    "    #Asset Turnover Ratio\n",
    "    df['Asset_Turnover_Ratio']=(df['Sales'] * 2) / ((df['Net Block'] + df['Capital Work in Progress'] + df['Investments'] + df['Other Assets']) + (df['Net Block'].shift(-1) + df['Capital Work in Progress'].shift(-1) + df['Investments'].shift(-1) + df['Other Assets'].shift(-1)))\n",
    "    #Inventory days\n",
    "    df['Inventory_Days'] = ((df['Inventory'] + df['Inventory'].shift(-1))/2) / df['COGS'] * 365 "
   ]
  },
  {
   "cell_type": "code",
   "execution_count": 47,
   "id": "b3e50db2",
   "metadata": {},
   "outputs": [],
   "source": [
    "#computing ratios for all the companies\n",
    "for x in data:\n",
    "    ratios_computer_req(data[x])"
   ]
  },
  {
   "cell_type": "code",
   "execution_count": 48,
   "id": "1fd5a987",
   "metadata": {},
   "outputs": [],
   "source": [
    "#creating a comprehensive dataframe\n",
    "all_data = pd.DataFrame()\n",
    "for x in data:\n",
    "    data[x]['Comp_Name'] = x\n",
    "    all_data = pd.concat([data[x],all_data],axis=0)\n",
    "all_data.sort_index(ascending=True).to_csv(r'C:\\Users\\jubin\\OneDrive\\Desktop\\Analytics EXPO\\Competitors Advanced\\All_Data\\All_Data.csv')"
   ]
  },
  {
   "cell_type": "code",
   "execution_count": 8,
   "id": "916f12b2",
   "metadata": {},
   "outputs": [],
   "source": [
    "#function to compute the desired ratios on the dataframes stored in the dictionary\n",
    "def ratios_computer(df):\n",
    "    \n",
    "    #Computing the profitability ratios\n",
    "    #EBITDA\n",
    "    df['EBITDA'] = df['Profit before tax'] + df['Interest'] + df['Depreciation']\n",
    "    \n",
    "    #EBIT\n",
    "    df['EBIT'] = df['Profit before tax'] + df['Interest']\n",
    "    \n",
    "    #Market Cap \n",
    "    df['Market Cap'] = df['Equity Share Capital'] * df['PRICE:'] / 10000000\n",
    "    \n",
    "    #EV\n",
    "    df['EV'] = df['Market Cap'] + df['Borrowings'] - df['Cash & Bank']\n",
    "    \n",
    "    \n",
    "    #Valuation Multiples\n",
    "    #EV/EBITDA\n",
    "    df['EV/EBITDA'] = df['EV'] / df['EBITDA']\n",
    "    \n",
    "    #EV/EBIT\n",
    "    df['EV/EBIT'] = df['EV'] / df['EBIT']\n",
    "    \n",
    "    #EV/Sales\n",
    "    df['EV/Sales'] = df['EV'] / df['Sales']\n",
    "    \n",
    "    #EPS \n",
    "    df['EPS'] = df['Net profit'] / df['Equity Share Capital']\n",
    "    \n",
    "    #P/E Ratio\n",
    "    df['P/E'] = df['PRICE:'] / df['EPS'] \n",
    "    \n",
    "    #Profitability Ratios\n",
    "    #Return on Equity\n",
    "    df['ROE'] = df['Net profit'] / (df['Equity Share Capital'] + df ['Reserves'])\n",
    "    \n",
    "    #Return on Assets\n",
    "    df['ROA'] = df['Net profit'] / (df['Net Block'] + df['Capital Work in Progress'] + df['Investments'] + df['Other Assets'])\n",
    "    \n",
    "    #Return on capital employed\n",
    "    df['ROCE'] = df['EBIT'] * 2 / ((df['Equity Share Capital']+df['Equity Share Capital'].shift(-1)) + (df['Borrowings']+df['Borrowings'].shift(-1)) + (df['Reserves'] +df['Reserves'].shift(-1)))                         \n",
    "    \n",
    "    #Solvency Ratios\n",
    "    #Interest Coverage Ratio\n",
    "    df['Interest_Cov_Rat'] = df['EBIT'] / df['Interest']\n",
    "    \n",
    "    #Debt to Equity\n",
    "    df['Debt_to_Equity'] = df['Borrowings'] / (df['Equity Share Capital'] + df['Reserves'])\n",
    "    \n",
    "    #Growth Ratios\n",
    "    #Sales \n",
    "    df['Yearly_Sales_Growth'] = (df['Sales'] / df['Sales'].shift(-1)) - 1 \n",
    "    df['Sales_3yr_cagr'] = (df['Sales'] / df['Sales'].shift(-3))**(1/3) - 1\n",
    "    df['Sales_5yr_cagr'] = (df['Sales'] / df['Sales'].shift(-5))**(1/5) - 1\n",
    "    #Net Profit\n",
    "    df['Yearly_Profit_Growth'] = (df['Net profit'] / df['Net profit'].shift(-1)) - 1 \n",
    "    df['Profit_3yr_cagr'] = (df['Net profit'] / df['Net profit'].shift(-3))**(1/3) - 1\n",
    "    df['Profit_5yr_cagr'] = (df['Net profit'] / df['Net profit'].shift(-5))**(1/5) - 1\n",
    "    \n",
    "    #EBITDA Growth\n",
    "    df['Yearly_EBITDA_Growth'] = (df['EBITDA'] / df['EBITDA'].shift(-1)) - 1 \n",
    "    df['EBIITDA_3yr_cagr'] = (df['EBITDA'] / df['EBITDA'].shift(-3))**(1/3) - 1\n",
    "    df['EBITDA_5yr_cagr'] = (df['EBITDA'] / df['EBITDA'].shift(-5))**(1/5) - 1\n",
    "    \n",
    "    #EBIT Growth\n",
    "    df['Yearly_EBIT_Growth'] = (df['EBIT'] / df['EBIT'].shift(-1)) - 1 \n",
    "    df['EBIT_3yr_cagr'] = (df['EBIT'] / df['EBIT'].shift(-3))**(1/3) - 1\n",
    "    df['EBIT_5yr_cagr'] = (df['EBIT'] / df['EBIT'].shift(-5))**(1/5) - 1\n",
    "    \n",
    "    #EPS Growth\n",
    "    df['Yearly_EPS_Growth'] = (df['EPS'] / df['EPS'].shift(-1)) - 1 \n",
    "    df['EPS_3yr_cagr'] = (df['EPS'] / df['EPS'].shift(-3))**(1/3) - 1\n",
    "    df['EPS_5yr_cagr'] = (df['EPS'] / df['EPS'].shift(-5))**(1/5) - 1"
   ]
  },
  {
   "cell_type": "code",
   "execution_count": null,
   "id": "3bdba594",
   "metadata": {},
   "outputs": [],
   "source": [
    "#Liquidity Ratios have not been computed due to absence of line items\n",
    "#Any other ratios that you need Kindly let me know\n",
    "#Some more cleaning can be done which we will get to towards the end"
   ]
  }
 ],
 "metadata": {
  "kernelspec": {
   "display_name": "Python 3 (ipykernel)",
   "language": "python",
   "name": "python3"
  },
  "language_info": {
   "codemirror_mode": {
    "name": "ipython",
    "version": 3
   },
   "file_extension": ".py",
   "mimetype": "text/x-python",
   "name": "python",
   "nbconvert_exporter": "python",
   "pygments_lexer": "ipython3",
   "version": "3.10.9"
  }
 },
 "nbformat": 4,
 "nbformat_minor": 5
}
